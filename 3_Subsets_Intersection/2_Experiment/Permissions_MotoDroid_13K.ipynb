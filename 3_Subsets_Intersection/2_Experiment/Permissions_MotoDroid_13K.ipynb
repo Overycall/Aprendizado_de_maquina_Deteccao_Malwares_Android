{
 "cells": [
  {
   "cell_type": "code",
   "execution_count": 1,
   "metadata": {},
   "outputs": [],
   "source": [
    "import pandas as pd\n",
    "import numpy as np"
   ]
  },
  {
   "cell_type": "code",
   "execution_count": 2,
   "metadata": {},
   "outputs": [],
   "source": [
    "df = pd.read_csv(\"../0_Datasets_Sources/MotoDroid_22K (2021).csv\")"
   ]
  },
  {
   "cell_type": "code",
   "execution_count": 3,
   "metadata": {},
   "outputs": [
    {
     "data": {
      "text/html": [
       "<div>\n",
       "<style scoped>\n",
       "    .dataframe tbody tr th:only-of-type {\n",
       "        vertical-align: middle;\n",
       "    }\n",
       "\n",
       "    .dataframe tbody tr th {\n",
       "        vertical-align: top;\n",
       "    }\n",
       "\n",
       "    .dataframe thead th {\n",
       "        text-align: right;\n",
       "    }\n",
       "</style>\n",
       "<table border=\"1\" class=\"dataframe\">\n",
       "  <thead>\n",
       "    <tr style=\"text-align: right;\">\n",
       "      <th></th>\n",
       "      <th>Name</th>\n",
       "      <th>Package</th>\n",
       "      <th>API</th>\n",
       "      <th>API_MIN</th>\n",
       "      <th>class</th>\n",
       "      <th>ACCESS_BACKGROUND_LOCATION</th>\n",
       "      <th>ACCESS_CHECKIN_PROPERTIES</th>\n",
       "      <th>ACCESS_COARSE_LOCATION</th>\n",
       "      <th>ACCESS_FINE_LOCATION</th>\n",
       "      <th>ACCESS_LOCATION_EXTRA_COMMANDS</th>\n",
       "      <th>...</th>\n",
       "      <th>READ_PRECISE_PHONE_STATE</th>\n",
       "      <th>READ_VOICEMAIL</th>\n",
       "      <th>REQUEST_COMPANION_RUN_IN_BACKGROUND</th>\n",
       "      <th>REQUEST_COMPANION_USE_DATA_IN_BACKGROUND</th>\n",
       "      <th>SEND_RESPOND_VIA_MESSAGE</th>\n",
       "      <th>SET_ACTIVITY_WATCHER</th>\n",
       "      <th>SET_POINTER_SPEED</th>\n",
       "      <th>SET_PROCESS_FOREGROUND</th>\n",
       "      <th>WRITE_HISTORY_BOOKMARKS</th>\n",
       "      <th>WRITE_VOICEMAIL</th>\n",
       "    </tr>\n",
       "  </thead>\n",
       "  <tbody>\n",
       "    <tr>\n",
       "      <th>0</th>\n",
       "      <td>AEM Preflight</td>\n",
       "      <td>com.adobe.dps.preflight</td>\n",
       "      <td>27</td>\n",
       "      <td>22</td>\n",
       "      <td>0</td>\n",
       "      <td>0</td>\n",
       "      <td>0</td>\n",
       "      <td>1</td>\n",
       "      <td>1</td>\n",
       "      <td>0</td>\n",
       "      <td>...</td>\n",
       "      <td>0</td>\n",
       "      <td>0</td>\n",
       "      <td>0</td>\n",
       "      <td>0</td>\n",
       "      <td>0</td>\n",
       "      <td>0</td>\n",
       "      <td>0</td>\n",
       "      <td>0</td>\n",
       "      <td>0</td>\n",
       "      <td>0</td>\n",
       "    </tr>\n",
       "    <tr>\n",
       "      <th>1</th>\n",
       "      <td>E-COURTS KARNATAKA</td>\n",
       "      <td>com.ecourts.karnataka</td>\n",
       "      <td>28</td>\n",
       "      <td>21</td>\n",
       "      <td>0</td>\n",
       "      <td>0</td>\n",
       "      <td>0</td>\n",
       "      <td>0</td>\n",
       "      <td>0</td>\n",
       "      <td>0</td>\n",
       "      <td>...</td>\n",
       "      <td>0</td>\n",
       "      <td>0</td>\n",
       "      <td>0</td>\n",
       "      <td>0</td>\n",
       "      <td>0</td>\n",
       "      <td>0</td>\n",
       "      <td>0</td>\n",
       "      <td>0</td>\n",
       "      <td>0</td>\n",
       "      <td>0</td>\n",
       "    </tr>\n",
       "    <tr>\n",
       "      <th>2</th>\n",
       "      <td>蜜色直播破解版</td>\n",
       "      <td>com.qiiiqjk.kkanzh</td>\n",
       "      <td>22</td>\n",
       "      <td>8</td>\n",
       "      <td>1</td>\n",
       "      <td>0</td>\n",
       "      <td>0</td>\n",
       "      <td>0</td>\n",
       "      <td>0</td>\n",
       "      <td>0</td>\n",
       "      <td>...</td>\n",
       "      <td>0</td>\n",
       "      <td>0</td>\n",
       "      <td>0</td>\n",
       "      <td>0</td>\n",
       "      <td>0</td>\n",
       "      <td>0</td>\n",
       "      <td>0</td>\n",
       "      <td>0</td>\n",
       "      <td>0</td>\n",
       "      <td>0</td>\n",
       "    </tr>\n",
       "    <tr>\n",
       "      <th>3</th>\n",
       "      <td>Hi-夜店</td>\n",
       "      <td>wen.ddsjw.mhd</td>\n",
       "      <td>19</td>\n",
       "      <td>14</td>\n",
       "      <td>1</td>\n",
       "      <td>0</td>\n",
       "      <td>0</td>\n",
       "      <td>1</td>\n",
       "      <td>0</td>\n",
       "      <td>0</td>\n",
       "      <td>...</td>\n",
       "      <td>0</td>\n",
       "      <td>0</td>\n",
       "      <td>0</td>\n",
       "      <td>0</td>\n",
       "      <td>0</td>\n",
       "      <td>0</td>\n",
       "      <td>0</td>\n",
       "      <td>0</td>\n",
       "      <td>0</td>\n",
       "      <td>0</td>\n",
       "    </tr>\n",
       "    <tr>\n",
       "      <th>4</th>\n",
       "      <td>Stats Tracker for Fortnite - Chests Map &amp; Weapons</td>\n",
       "      <td>com.lucktracy.fortnite</td>\n",
       "      <td>26</td>\n",
       "      <td>16</td>\n",
       "      <td>1</td>\n",
       "      <td>0</td>\n",
       "      <td>0</td>\n",
       "      <td>0</td>\n",
       "      <td>0</td>\n",
       "      <td>0</td>\n",
       "      <td>...</td>\n",
       "      <td>0</td>\n",
       "      <td>0</td>\n",
       "      <td>0</td>\n",
       "      <td>0</td>\n",
       "      <td>0</td>\n",
       "      <td>0</td>\n",
       "      <td>0</td>\n",
       "      <td>0</td>\n",
       "      <td>0</td>\n",
       "      <td>0</td>\n",
       "    </tr>\n",
       "  </tbody>\n",
       "</table>\n",
       "<p>5 rows × 149 columns</p>\n",
       "</div>"
      ],
      "text/plain": [
       "                                                Name                  Package  \\\n",
       "0                                      AEM Preflight  com.adobe.dps.preflight   \n",
       "1                                E-COURTS KARNATAKA     com.ecourts.karnataka   \n",
       "2                                            蜜色直播破解版       com.qiiiqjk.kkanzh   \n",
       "3                                              Hi-夜店            wen.ddsjw.mhd   \n",
       "4  Stats Tracker for Fortnite - Chests Map & Weapons   com.lucktracy.fortnite   \n",
       "\n",
       "   API  API_MIN  class  ACCESS_BACKGROUND_LOCATION  ACCESS_CHECKIN_PROPERTIES  \\\n",
       "0   27       22      0                           0                          0   \n",
       "1   28       21      0                           0                          0   \n",
       "2   22        8      1                           0                          0   \n",
       "3   19       14      1                           0                          0   \n",
       "4   26       16      1                           0                          0   \n",
       "\n",
       "   ACCESS_COARSE_LOCATION  ACCESS_FINE_LOCATION  \\\n",
       "0                       1                     1   \n",
       "1                       0                     0   \n",
       "2                       0                     0   \n",
       "3                       1                     0   \n",
       "4                       0                     0   \n",
       "\n",
       "   ACCESS_LOCATION_EXTRA_COMMANDS  ...  READ_PRECISE_PHONE_STATE  \\\n",
       "0                               0  ...                         0   \n",
       "1                               0  ...                         0   \n",
       "2                               0  ...                         0   \n",
       "3                               0  ...                         0   \n",
       "4                               0  ...                         0   \n",
       "\n",
       "   READ_VOICEMAIL  REQUEST_COMPANION_RUN_IN_BACKGROUND  \\\n",
       "0               0                                    0   \n",
       "1               0                                    0   \n",
       "2               0                                    0   \n",
       "3               0                                    0   \n",
       "4               0                                    0   \n",
       "\n",
       "   REQUEST_COMPANION_USE_DATA_IN_BACKGROUND  SEND_RESPOND_VIA_MESSAGE  \\\n",
       "0                                         0                         0   \n",
       "1                                         0                         0   \n",
       "2                                         0                         0   \n",
       "3                                         0                         0   \n",
       "4                                         0                         0   \n",
       "\n",
       "   SET_ACTIVITY_WATCHER  SET_POINTER_SPEED  SET_PROCESS_FOREGROUND  \\\n",
       "0                     0                  0                       0   \n",
       "1                     0                  0                       0   \n",
       "2                     0                  0                       0   \n",
       "3                     0                  0                       0   \n",
       "4                     0                  0                       0   \n",
       "\n",
       "   WRITE_HISTORY_BOOKMARKS  WRITE_VOICEMAIL  \n",
       "0                        0                0  \n",
       "1                        0                0  \n",
       "2                        0                0  \n",
       "3                        0                0  \n",
       "4                        0                0  \n",
       "\n",
       "[5 rows x 149 columns]"
      ]
     },
     "execution_count": 3,
     "metadata": {},
     "output_type": "execute_result"
    }
   ],
   "source": [
    "df.head()"
   ]
  },
  {
   "cell_type": "code",
   "execution_count": 5,
   "metadata": {},
   "outputs": [
    {
     "data": {
      "text/plain": [
       "1    11654\n",
       "0    11172\n",
       "Name: class, dtype: int64"
      ]
     },
     "execution_count": 5,
     "metadata": {},
     "output_type": "execute_result"
    }
   ],
   "source": [
    "df['class'].value_counts()"
   ]
  },
  {
   "cell_type": "markdown",
   "metadata": {},
   "source": [
    "Removendo registros duplicados"
   ]
  },
  {
   "cell_type": "code",
   "execution_count": 6,
   "metadata": {},
   "outputs": [
    {
     "data": {
      "text/plain": [
       "789"
      ]
     },
     "execution_count": 6,
     "metadata": {},
     "output_type": "execute_result"
    }
   ],
   "source": [
    "len(df[df.duplicated(keep='first')])"
   ]
  },
  {
   "cell_type": "code",
   "execution_count": 7,
   "metadata": {},
   "outputs": [],
   "source": [
    "df.drop_duplicates(keep=\"first\", inplace=True)"
   ]
  },
  {
   "cell_type": "code",
   "execution_count": 8,
   "metadata": {},
   "outputs": [
    {
     "data": {
      "text/plain": [
       "1    11028\n",
       "0    11009\n",
       "Name: class, dtype: int64"
      ]
     },
     "execution_count": 8,
     "metadata": {},
     "output_type": "execute_result"
    }
   ],
   "source": [
    "df['class'].value_counts()"
   ]
  },
  {
   "cell_type": "code",
   "execution_count": 6,
   "metadata": {},
   "outputs": [
    {
     "data": {
      "text/plain": [
       "(22037, 149)"
      ]
     },
     "execution_count": 6,
     "metadata": {},
     "output_type": "execute_result"
    }
   ],
   "source": [
    "df.shape"
   ]
  },
  {
   "cell_type": "code",
   "execution_count": 7,
   "metadata": {},
   "outputs": [
    {
     "data": {
      "text/plain": [
       "26    6069\n",
       "28    5381\n",
       "27    2624\n",
       "29    2003\n",
       "22    1583\n",
       "23    1290\n",
       "25     815\n",
       "21     572\n",
       "19     397\n",
       "18     378\n",
       "24     301\n",
       "20     143\n",
       "17     136\n",
       "14     100\n",
       "30      70\n",
       "16      59\n",
       "15      27\n",
       "9       16\n",
       "10      16\n",
       "11      14\n",
       "33       8\n",
       "12       6\n",
       "8        6\n",
       "32       6\n",
       "7        6\n",
       "13       5\n",
       "4        2\n",
       "50       1\n",
       "36       1\n",
       "31       1\n",
       "35       1\n",
       "Name: API, dtype: int64"
      ]
     },
     "execution_count": 7,
     "metadata": {},
     "output_type": "execute_result"
    }
   ],
   "source": [
    "# Versões de APIs\n",
    "df['API'].value_counts()"
   ]
  },
  {
   "cell_type": "markdown",
   "metadata": {},
   "source": [
    "#### Removendo características que não são Permissões e nem a Classe"
   ]
  },
  {
   "cell_type": "code",
   "execution_count": 8,
   "metadata": {},
   "outputs": [],
   "source": [
    "df.drop(columns=[\"Name\",\"Package\",\"API\",\"API_MIN\"], inplace=True)"
   ]
  },
  {
   "cell_type": "code",
   "execution_count": 9,
   "metadata": {},
   "outputs": [
    {
     "data": {
      "text/plain": [
       "(22037, 145)"
      ]
     },
     "execution_count": 9,
     "metadata": {},
     "output_type": "execute_result"
    }
   ],
   "source": [
    "df.shape"
   ]
  },
  {
   "cell_type": "markdown",
   "metadata": {},
   "source": [
    "#### Exportando Dataset de Permissões"
   ]
  },
  {
   "cell_type": "code",
   "execution_count": 10,
   "metadata": {},
   "outputs": [],
   "source": [
    "df.to_csv(\"Permission_MotoDroid.csv\", index=False)"
   ]
  }
 ],
 "metadata": {
  "interpreter": {
   "hash": "916dbcbb3f70747c44a77c7bcd40155683ae19c65e1c03b4aa3499c5328201f1"
  },
  "kernelspec": {
   "display_name": "Python 3.8.10 64-bit",
   "language": "python",
   "name": "python3"
  },
  "language_info": {
   "codemirror_mode": {
    "name": "ipython",
    "version": 3
   },
   "file_extension": ".py",
   "mimetype": "text/x-python",
   "name": "python",
   "nbconvert_exporter": "python",
   "pygments_lexer": "ipython3",
   "version": "3.8.10"
  },
  "orig_nbformat": 4
 },
 "nbformat": 4,
 "nbformat_minor": 2
}
